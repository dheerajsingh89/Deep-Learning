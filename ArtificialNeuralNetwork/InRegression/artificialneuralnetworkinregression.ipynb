{
  "nbformat": 4,
  "nbformat_minor": 0,
  "metadata": {
    "colab": {
      "provenance": []
    },
    "kernelspec": {
      "name": "python3",
      "display_name": "Python 3"
    }
  },
  "cells": [
    {
      "cell_type": "markdown",
      "metadata": {
        "id": "3cbb7fRy-eyr"
      },
      "source": [
        "# Artificial Neural Network"
      ]
    },
    {
      "cell_type": "markdown",
      "metadata": {
        "id": "8sNDnxE2-pwE"
      },
      "source": [
        "### Importing the libraries"
      ]
    },
    {
      "cell_type": "code",
      "source": [
        "import numpy as np\n",
        "import pandas as pd\n",
        "import tensorflow as tf"
      ],
      "metadata": {
        "id": "EHB-xOjfEMnq"
      },
      "execution_count": 1,
      "outputs": []
    },
    {
      "cell_type": "markdown",
      "metadata": {
        "id": "AG3FQEch-yuA"
      },
      "source": [
        "## Part 1 - Data Preprocessing"
      ]
    },
    {
      "cell_type": "markdown",
      "metadata": {
        "id": "-4zq8Mza_D9O"
      },
      "source": [
        "### Importing the dataset"
      ]
    },
    {
      "cell_type": "code",
      "source": [
        "dataset=pd.read_excel('data.xlsx')\n",
        "x=dataset.iloc[:,:-1].values\n",
        "y=dataset.iloc[:,-1].values"
      ],
      "metadata": {
        "id": "V2ZCmKk-FYnC"
      },
      "execution_count": 2,
      "outputs": []
    },
    {
      "cell_type": "markdown",
      "metadata": {
        "id": "VC6omXel_Up0"
      },
      "source": [
        "### Splitting the dataset into the Training set and Test set"
      ]
    },
    {
      "cell_type": "code",
      "source": [
        "from sklearn.model_selection import train_test_split\n",
        "x_train,x_test,y_train,y_test=train_test_split(x,y,test_size=0.2,random_state=0)"
      ],
      "metadata": {
        "id": "z_XjinnDGGnt"
      },
      "execution_count": 3,
      "outputs": []
    },
    {
      "cell_type": "markdown",
      "metadata": {
        "id": "_mSLlAT9_eyI"
      },
      "source": [
        "## Part 2 - Building the ANN"
      ]
    },
    {
      "cell_type": "markdown",
      "metadata": {
        "id": "CsBULd_f_wLY"
      },
      "source": [
        "### Initializing the ANN"
      ]
    },
    {
      "cell_type": "code",
      "source": [
        "ann=tf.keras.models.Sequential()"
      ],
      "metadata": {
        "id": "o4CP5VQFHJso"
      },
      "execution_count": 4,
      "outputs": []
    },
    {
      "cell_type": "markdown",
      "metadata": {
        "id": "iitAFJS_ABUn"
      },
      "source": [
        "### Adding the input layer and the first hidden layer"
      ]
    },
    {
      "cell_type": "code",
      "source": [
        "ann.add(tf.keras.layers.Dense(units=6,activation='relu'))\n",
        "# units is the dimensionality of the output space of the layer and we know that each neuron will give one output so we can say that units is the number of neuron in that layer"
      ],
      "metadata": {
        "id": "q10v7PCYHRe0"
      },
      "execution_count": 6,
      "outputs": []
    },
    {
      "cell_type": "markdown",
      "metadata": {
        "id": "-lb4kK_wAKbs"
      },
      "source": [
        "### Adding the second hidden layer"
      ]
    },
    {
      "cell_type": "code",
      "source": [
        "ann.add(tf.keras.layers.Dense(units=6,activation='relu'))"
      ],
      "metadata": {
        "id": "hdUJ4zqQHqph"
      },
      "execution_count": 7,
      "outputs": []
    },
    {
      "cell_type": "markdown",
      "metadata": {
        "id": "jwMOmKb3AdBY"
      },
      "source": [
        "### Adding the output layer"
      ]
    },
    {
      "cell_type": "code",
      "source": [
        "ann.add(tf.keras.layers.Dense(units=1))#in regression no activation function required in output layer and because of only one neuron present in output layer(as only one output required) that's why here units=1"
      ],
      "metadata": {
        "id": "JIMn9xkHHrmh"
      },
      "execution_count": 8,
      "outputs": []
    },
    {
      "cell_type": "markdown",
      "metadata": {
        "id": "fq7e4fF6A1yy"
      },
      "source": [
        "## Part 3 - Training the ANN"
      ]
    },
    {
      "cell_type": "markdown",
      "metadata": {
        "id": "qDeylAs2An25"
      },
      "source": [
        "### Compiling the ANN"
      ]
    },
    {
      "cell_type": "code",
      "source": [
        "ann.compile(optimizer='adam',loss='mean_squared_error')#in regression we compute the loss(error) by taking the mean_squared_error <-> Mean squared error finds the squared difference between all predicted values and the real values and averages it all.\n",
        "# in regression the compile function doesn't want to take the accuracy metrics"
      ],
      "metadata": {
        "id": "knRvVg2TIeK2"
      },
      "execution_count": 10,
      "outputs": []
    },
    {
      "cell_type": "markdown",
      "metadata": {
        "id": "YjVuiybYOo7r"
      },
      "source": [
        "### Training the ANN model on the Training set"
      ]
    },
    {
      "cell_type": "code",
      "source": [
        "ann.fit(x_train,y_train,batch_size=32,epochs=100)"
      ],
      "metadata": {
        "colab": {
          "base_uri": "https://localhost:8080/",
          "height": 0
        },
        "id": "f9DboSe2Kjd2",
        "outputId": "4749f582-5fb5-4611-cdc8-b338125b8e53"
      },
      "execution_count": 12,
      "outputs": [
        {
          "output_type": "stream",
          "name": "stdout",
          "text": [
            "Epoch 1/100\n",
            "240/240 [==============================] - 1s 3ms/step - loss: 51031.6211\n",
            "Epoch 2/100\n",
            "240/240 [==============================] - 1s 4ms/step - loss: 942.8163\n",
            "Epoch 3/100\n",
            "240/240 [==============================] - 0s 2ms/step - loss: 257.6289\n",
            "Epoch 4/100\n",
            "240/240 [==============================] - 0s 2ms/step - loss: 254.5991\n",
            "Epoch 5/100\n",
            "240/240 [==============================] - 0s 2ms/step - loss: 251.5285\n",
            "Epoch 6/100\n",
            "240/240 [==============================] - 1s 2ms/step - loss: 247.8146\n",
            "Epoch 7/100\n",
            "240/240 [==============================] - 0s 2ms/step - loss: 243.5686\n",
            "Epoch 8/100\n",
            "240/240 [==============================] - 0s 2ms/step - loss: 239.0120\n",
            "Epoch 9/100\n",
            "240/240 [==============================] - 0s 2ms/step - loss: 233.6378\n",
            "Epoch 10/100\n",
            "240/240 [==============================] - 0s 2ms/step - loss: 228.1255\n",
            "Epoch 11/100\n",
            "240/240 [==============================] - 0s 2ms/step - loss: 221.3320\n",
            "Epoch 12/100\n",
            "240/240 [==============================] - 0s 2ms/step - loss: 214.0064\n",
            "Epoch 13/100\n",
            "240/240 [==============================] - 0s 2ms/step - loss: 206.5815\n",
            "Epoch 14/100\n",
            "240/240 [==============================] - 0s 2ms/step - loss: 198.1207\n",
            "Epoch 15/100\n",
            "240/240 [==============================] - 1s 2ms/step - loss: 189.5418\n",
            "Epoch 16/100\n",
            "240/240 [==============================] - 0s 2ms/step - loss: 180.3732\n",
            "Epoch 17/100\n",
            "240/240 [==============================] - 0s 2ms/step - loss: 170.6800\n",
            "Epoch 18/100\n",
            "240/240 [==============================] - 0s 2ms/step - loss: 160.5233\n",
            "Epoch 19/100\n",
            "240/240 [==============================] - 1s 2ms/step - loss: 150.3906\n",
            "Epoch 20/100\n",
            "240/240 [==============================] - 1s 3ms/step - loss: 140.2676\n",
            "Epoch 21/100\n",
            "240/240 [==============================] - 1s 3ms/step - loss: 129.2212\n",
            "Epoch 22/100\n",
            "240/240 [==============================] - 1s 3ms/step - loss: 119.0315\n",
            "Epoch 23/100\n",
            "240/240 [==============================] - 1s 3ms/step - loss: 109.1681\n",
            "Epoch 24/100\n",
            "240/240 [==============================] - 0s 2ms/step - loss: 99.8043\n",
            "Epoch 25/100\n",
            "240/240 [==============================] - 0s 2ms/step - loss: 90.6585\n",
            "Epoch 26/100\n",
            "240/240 [==============================] - 0s 2ms/step - loss: 82.5468\n",
            "Epoch 27/100\n",
            "240/240 [==============================] - 0s 2ms/step - loss: 75.1481\n",
            "Epoch 28/100\n",
            "240/240 [==============================] - 0s 2ms/step - loss: 68.5270\n",
            "Epoch 29/100\n",
            "240/240 [==============================] - 0s 2ms/step - loss: 62.5501\n",
            "Epoch 30/100\n",
            "240/240 [==============================] - 0s 2ms/step - loss: 57.3501\n",
            "Epoch 31/100\n",
            "240/240 [==============================] - 0s 2ms/step - loss: 52.7953\n",
            "Epoch 32/100\n",
            "240/240 [==============================] - 0s 2ms/step - loss: 49.0127\n",
            "Epoch 33/100\n",
            "240/240 [==============================] - 0s 2ms/step - loss: 45.8049\n",
            "Epoch 34/100\n",
            "240/240 [==============================] - 0s 2ms/step - loss: 42.8533\n",
            "Epoch 35/100\n",
            "240/240 [==============================] - 0s 2ms/step - loss: 40.3099\n",
            "Epoch 36/100\n",
            "240/240 [==============================] - 0s 2ms/step - loss: 38.3738\n",
            "Epoch 37/100\n",
            "240/240 [==============================] - 0s 2ms/step - loss: 36.9309\n",
            "Epoch 38/100\n",
            "240/240 [==============================] - 0s 2ms/step - loss: 35.2205\n",
            "Epoch 39/100\n",
            "240/240 [==============================] - 0s 2ms/step - loss: 34.1384\n",
            "Epoch 40/100\n",
            "240/240 [==============================] - 0s 2ms/step - loss: 33.2342\n",
            "Epoch 41/100\n",
            "240/240 [==============================] - 0s 2ms/step - loss: 32.6429\n",
            "Epoch 42/100\n",
            "240/240 [==============================] - 0s 2ms/step - loss: 31.9048\n",
            "Epoch 43/100\n",
            "240/240 [==============================] - 0s 2ms/step - loss: 31.6671\n",
            "Epoch 44/100\n",
            "240/240 [==============================] - 0s 2ms/step - loss: 31.4218\n",
            "Epoch 45/100\n",
            "240/240 [==============================] - 0s 2ms/step - loss: 30.5044\n",
            "Epoch 46/100\n",
            "240/240 [==============================] - 1s 3ms/step - loss: 30.2543\n",
            "Epoch 47/100\n",
            "240/240 [==============================] - 1s 3ms/step - loss: 30.3338\n",
            "Epoch 48/100\n",
            "240/240 [==============================] - 1s 3ms/step - loss: 29.7035\n",
            "Epoch 49/100\n",
            "240/240 [==============================] - 1s 3ms/step - loss: 29.8458\n",
            "Epoch 50/100\n",
            "240/240 [==============================] - 0s 2ms/step - loss: 29.2398\n",
            "Epoch 51/100\n",
            "240/240 [==============================] - 0s 2ms/step - loss: 29.0043\n",
            "Epoch 52/100\n",
            "240/240 [==============================] - 0s 2ms/step - loss: 28.6181\n",
            "Epoch 53/100\n",
            "240/240 [==============================] - 0s 2ms/step - loss: 28.5479\n",
            "Epoch 54/100\n",
            "240/240 [==============================] - 0s 2ms/step - loss: 28.6585\n",
            "Epoch 55/100\n",
            "240/240 [==============================] - 0s 2ms/step - loss: 28.5553\n",
            "Epoch 56/100\n",
            "240/240 [==============================] - 0s 2ms/step - loss: 28.5110\n",
            "Epoch 57/100\n",
            "240/240 [==============================] - 0s 2ms/step - loss: 27.8235\n",
            "Epoch 58/100\n",
            "240/240 [==============================] - 0s 2ms/step - loss: 27.9919\n",
            "Epoch 59/100\n",
            "240/240 [==============================] - 0s 2ms/step - loss: 27.6283\n",
            "Epoch 60/100\n",
            "240/240 [==============================] - 0s 2ms/step - loss: 27.9412\n",
            "Epoch 61/100\n",
            "240/240 [==============================] - 0s 2ms/step - loss: 27.4126\n",
            "Epoch 62/100\n",
            "240/240 [==============================] - 0s 2ms/step - loss: 27.3972\n",
            "Epoch 63/100\n",
            "240/240 [==============================] - 0s 2ms/step - loss: 27.5656\n",
            "Epoch 64/100\n",
            "240/240 [==============================] - 0s 2ms/step - loss: 27.2465\n",
            "Epoch 65/100\n",
            "240/240 [==============================] - 0s 2ms/step - loss: 27.1518\n",
            "Epoch 66/100\n",
            "240/240 [==============================] - 0s 2ms/step - loss: 27.3276\n",
            "Epoch 67/100\n",
            "240/240 [==============================] - 0s 2ms/step - loss: 27.1564\n",
            "Epoch 68/100\n",
            "240/240 [==============================] - 0s 2ms/step - loss: 26.9064\n",
            "Epoch 69/100\n",
            "240/240 [==============================] - 0s 2ms/step - loss: 27.2613\n",
            "Epoch 70/100\n",
            "240/240 [==============================] - 0s 2ms/step - loss: 27.0220\n",
            "Epoch 71/100\n",
            "240/240 [==============================] - 0s 2ms/step - loss: 26.9737\n",
            "Epoch 72/100\n",
            "240/240 [==============================] - 1s 3ms/step - loss: 26.9276\n",
            "Epoch 73/100\n",
            "240/240 [==============================] - 1s 3ms/step - loss: 26.6743\n",
            "Epoch 74/100\n",
            "240/240 [==============================] - 1s 3ms/step - loss: 27.0615\n",
            "Epoch 75/100\n",
            "240/240 [==============================] - 1s 3ms/step - loss: 26.6309\n",
            "Epoch 76/100\n",
            "240/240 [==============================] - 0s 2ms/step - loss: 27.0247\n",
            "Epoch 77/100\n",
            "240/240 [==============================] - 0s 2ms/step - loss: 26.6328\n",
            "Epoch 78/100\n",
            "240/240 [==============================] - 0s 2ms/step - loss: 26.8572\n",
            "Epoch 79/100\n",
            "240/240 [==============================] - 0s 2ms/step - loss: 26.6285\n",
            "Epoch 80/100\n",
            "240/240 [==============================] - 0s 2ms/step - loss: 26.5815\n",
            "Epoch 81/100\n",
            "240/240 [==============================] - 0s 2ms/step - loss: 26.4649\n",
            "Epoch 82/100\n",
            "240/240 [==============================] - 0s 2ms/step - loss: 26.9098\n",
            "Epoch 83/100\n",
            "240/240 [==============================] - 0s 2ms/step - loss: 26.9385\n",
            "Epoch 84/100\n",
            "240/240 [==============================] - 0s 2ms/step - loss: 26.5704\n",
            "Epoch 85/100\n",
            "240/240 [==============================] - 0s 2ms/step - loss: 26.5357\n",
            "Epoch 86/100\n",
            "240/240 [==============================] - 0s 2ms/step - loss: 26.3228\n",
            "Epoch 87/100\n",
            "240/240 [==============================] - 0s 2ms/step - loss: 26.7088\n",
            "Epoch 88/100\n",
            "240/240 [==============================] - 0s 2ms/step - loss: 26.3555\n",
            "Epoch 89/100\n",
            "240/240 [==============================] - 0s 2ms/step - loss: 26.1841\n",
            "Epoch 90/100\n",
            "240/240 [==============================] - 0s 2ms/step - loss: 26.5382\n",
            "Epoch 91/100\n",
            "240/240 [==============================] - 0s 2ms/step - loss: 26.6393\n",
            "Epoch 92/100\n",
            "240/240 [==============================] - 0s 2ms/step - loss: 26.4148\n",
            "Epoch 93/100\n",
            "240/240 [==============================] - 0s 2ms/step - loss: 26.1801\n",
            "Epoch 94/100\n",
            "240/240 [==============================] - 0s 2ms/step - loss: 26.4161\n",
            "Epoch 95/100\n",
            "240/240 [==============================] - 0s 2ms/step - loss: 26.6923\n",
            "Epoch 96/100\n",
            "240/240 [==============================] - 0s 2ms/step - loss: 26.5991\n",
            "Epoch 97/100\n",
            "240/240 [==============================] - 0s 2ms/step - loss: 26.2838\n",
            "Epoch 98/100\n",
            "240/240 [==============================] - 1s 2ms/step - loss: 26.8154\n",
            "Epoch 99/100\n",
            "240/240 [==============================] - 1s 3ms/step - loss: 26.1640\n",
            "Epoch 100/100\n",
            "240/240 [==============================] - 1s 2ms/step - loss: 26.1570\n"
          ]
        },
        {
          "output_type": "execute_result",
          "data": {
            "text/plain": [
              "<keras.callbacks.History at 0x7f311c277f70>"
            ]
          },
          "metadata": {},
          "execution_count": 12
        }
      ]
    },
    {
      "cell_type": "markdown",
      "metadata": {
        "id": "0H0zKKNEBLD5"
      },
      "source": [
        "### Predicting the results of the Test set"
      ]
    },
    {
      "cell_type": "code",
      "source": [
        "y_pred=ann.predict(x_test)"
      ],
      "metadata": {
        "colab": {
          "base_uri": "https://localhost:8080/",
          "height": 0
        },
        "id": "L6S3FwngKtNe",
        "outputId": "e629442d-d90c-4cae-d1df-80a621e91481"
      },
      "execution_count": 13,
      "outputs": [
        {
          "output_type": "stream",
          "name": "stdout",
          "text": [
            "60/60 [==============================] - 0s 1ms/step\n"
          ]
        }
      ]
    },
    {
      "cell_type": "code",
      "source": [
        "print(np.concatenate((y_test.reshape(-1,1),y_pred.reshape(-1,1)),axis=1))"
      ],
      "metadata": {
        "colab": {
          "base_uri": "https://localhost:8080/",
          "height": 0
        },
        "id": "8Yp9x-zULJiR",
        "outputId": "067701a7-798c-474d-f0d4-7d45a2415b67"
      },
      "execution_count": 15,
      "outputs": [
        {
          "output_type": "stream",
          "name": "stdout",
          "text": [
            "[[431.23       431.390625  ]\n",
            " [460.01       462.73739624]\n",
            " [461.14       466.37356567]\n",
            " ...\n",
            " [473.26       473.33395386]\n",
            " [438.         440.65823364]\n",
            " [463.28       459.64724731]]\n"
          ]
        }
      ]
    }
  ]
}