{
 "cells": [
  {
   "cell_type": "markdown",
   "metadata": {
    "id": "3DR-eO17geWu"
   },
   "source": [
    "# Convolutional Neural Network"
   ]
  },
  {
   "cell_type": "markdown",
   "metadata": {
    "id": "EMefrVPCg-60"
   },
   "source": [
    "### Importing the libraries"
   ]
  },
  {
   "cell_type": "code",
   "execution_count": 1,
   "metadata": {
    "id": "I5Mqn6Pap58J"
   },
   "outputs": [],
   "source": [
    "import tensorflow as tf\n"
   ]
  },
  {
   "cell_type": "code",
   "execution_count": 2,
   "metadata": {
    "id": "NzdMIs_ftVu-"
   },
   "outputs": [],
   "source": [
    "from keras.preprocessing.image import ImageDataGenerator"
   ]
  },
  {
   "cell_type": "markdown",
   "metadata": {
    "id": "oxQxCBWyoGPE"
   },
   "source": [
    "## Part 1 - Data Preprocessing"
   ]
  },
  {
   "cell_type": "markdown",
   "metadata": {
    "id": "MvE-heJNo3GG"
   },
   "source": [
    "### Preprocessing the Training set"
   ]
  },
  {
   "cell_type": "code",
   "execution_count": 3,
   "metadata": {
    "id": "XW_nlKLjqEz0"
   },
   "outputs": [
    {
     "name": "stdout",
     "output_type": "stream",
     "text": [
      "Found 8000 images belonging to 2 classes.\n"
     ]
    }
   ],
   "source": [
    "train_datagen = ImageDataGenerator( #this is Image data generator which will help to generate image as data\n",
    "        rescale=1./255,\n",
    "        shear_range=0.2,\n",
    "        zoom_range=0.2,\n",
    "        horizontal_flip=True)\n",
    "training_set = train_datagen.flow_from_directory(\n",
    "        'dataset/training_set',\n",
    "        target_size=(64, 64),#this is size of each image in our training set\n",
    "        batch_size=32,#it means 32 images in a batch\n",
    "        class_mode='binary')"
   ]
  },
  {
   "cell_type": "markdown",
   "metadata": {
    "id": "mrCMmGw9pHys"
   },
   "source": [
    "### Preprocessing the Test set"
   ]
  },
  {
   "cell_type": "code",
   "execution_count": 4,
   "metadata": {
    "id": "Ao9cx_xpqzOu"
   },
   "outputs": [
    {
     "name": "stdout",
     "output_type": "stream",
     "text": [
      "Found 2000 images belonging to 2 classes.\n"
     ]
    }
   ],
   "source": [
    "test_datagen = ImageDataGenerator(rescale=1./255)\n",
    "test_set = test_datagen.flow_from_directory(\n",
    "        'dataset/test_set',\n",
    "        target_size=(64, 64),\n",
    "        batch_size=32,#it means 32 images in a batch\n",
    "        class_mode='binary')"
   ]
  },
  {
   "cell_type": "markdown",
   "metadata": {
    "id": "af8O4l90gk7B"
   },
   "source": [
    "## Part 2 - Building the CNN"
   ]
  },
  {
   "cell_type": "markdown",
   "metadata": {
    "id": "ces1gXY2lmoX"
   },
   "source": [
    "### Initialising the CNN"
   ]
  },
  {
   "cell_type": "code",
   "execution_count": 5,
   "metadata": {
    "id": "UefGcznauvTr"
   },
   "outputs": [],
   "source": [
    "cnn=tf.keras.models.Sequential() #same as the initialisation of Artificial Neural Network here also we are initialising the convolutional neural network as a sequence model\n"
   ]
  },
  {
   "cell_type": "markdown",
   "metadata": {
    "id": "u5YJj_XMl5LF"
   },
   "source": [
    "### Step 1 - Convolution"
   ]
  },
  {
   "cell_type": "code",
   "execution_count": 6,
   "metadata": {
    "id": "eHtK17sEvIiP"
   },
   "outputs": [],
   "source": [
    "cnn.add(tf.keras.layers.Conv2D(filters=32,kernel_size=3,activation='relu',input_shape=[64,64,3]))#filters is the  Integer, the dimensionality of the output space (i.e. the number of output filters in the convolution). \n",
    "#kernel_size is the size of filter <-> for 3x3 filter we take kernel_size =3\n",
    "#input_shape=[height,width,number of color channel(3 for rgb)]"
   ]
  },
  {
   "cell_type": "markdown",
   "metadata": {
    "id": "tf87FpvxmNOJ"
   },
   "source": [
    "### Step 2 - Pooling"
   ]
  },
  {
   "cell_type": "code",
   "execution_count": 7,
   "metadata": {
    "id": "utb8dvTowk06"
   },
   "outputs": [],
   "source": [
    "cnn.add(tf.keras.layers.MaxPool2D(pool_size=(2,2),strides=2))"
   ]
  },
  {
   "cell_type": "markdown",
   "metadata": {
    "id": "xaTOgD8rm4mU"
   },
   "source": [
    "### Adding a second convolutional layer"
   ]
  },
  {
   "cell_type": "code",
   "execution_count": 8,
   "metadata": {
    "id": "caJl-ypWw0X3"
   },
   "outputs": [],
   "source": [
    "cnn.add(tf.keras.layers.Conv2D(filters=32,kernel_size=3,activation='relu'))#as in first convolutional layer we already entered the input_shape so in second layer we don't want to mention it again\n",
    "cnn.add(tf.keras.layers.MaxPool2D(pool_size=(2,2),strides=2))"
   ]
  },
  {
   "cell_type": "markdown",
   "metadata": {
    "id": "tmiEuvTunKfk"
   },
   "source": [
    "### Step 3 - Flattening"
   ]
  },
  {
   "cell_type": "code",
   "execution_count": 9,
   "metadata": {
    "id": "mtXb7ifvxH2P"
   },
   "outputs": [],
   "source": [
    "cnn.add(tf.keras.layers.Flatten())"
   ]
  },
  {
   "cell_type": "markdown",
   "metadata": {
    "id": "dAoSECOm203v"
   },
   "source": [
    "### Step 4 - Full Connection"
   ]
  },
  {
   "cell_type": "code",
   "execution_count": 10,
   "metadata": {
    "id": "dS0U8_BsxWvD"
   },
   "outputs": [],
   "source": [
    "cnn.add(tf.keras.layers.Dense(units=128,activation='relu'))"
   ]
  },
  {
   "cell_type": "markdown",
   "metadata": {
    "id": "yTldFvbX28Na"
   },
   "source": [
    "### Step 5 - Output Layer"
   ]
  },
  {
   "cell_type": "code",
   "execution_count": 11,
   "metadata": {
    "id": "CxFtq0vDxjxl"
   },
   "outputs": [],
   "source": [
    "cnn.add(tf.keras.layers.Dense(units=1,activation='sigmoid'))"
   ]
  },
  {
   "cell_type": "markdown",
   "metadata": {
    "id": "D6XkI90snSDl"
   },
   "source": [
    "## Part 3 - Training the CNN"
   ]
  },
  {
   "cell_type": "markdown",
   "metadata": {
    "id": "vfrFQACEnc6i"
   },
   "source": [
    "### Compiling the CNN"
   ]
  },
  {
   "cell_type": "code",
   "execution_count": 12,
   "metadata": {
    "id": "VyPc3lJ9xm3U"
   },
   "outputs": [],
   "source": [
    "cnn.compile(optimizer='adam',loss='binary_crossentropy',metrics=['accuracy'])"
   ]
  },
  {
   "cell_type": "markdown",
   "metadata": {
    "id": "ehS-v3MIpX2h"
   },
   "source": [
    "### Training the CNN on the Training set and evaluating it on the Test set"
   ]
  },
  {
   "cell_type": "code",
   "execution_count": 13,
   "metadata": {
    "id": "YTVVdGxZyaEq"
   },
   "outputs": [
    {
     "name": "stdout",
     "output_type": "stream",
     "text": [
      "Epoch 1/30\n",
      "250/250 [==============================] - 96s 380ms/step - loss: 0.6861 - accuracy: 0.5512 - val_loss: 0.6416 - val_accuracy: 0.6490\n",
      "Epoch 2/30\n",
      "250/250 [==============================] - 126s 505ms/step - loss: 0.6339 - accuracy: 0.6435 - val_loss: 0.6257 - val_accuracy: 0.6620\n",
      "Epoch 3/30\n",
      "250/250 [==============================] - 69s 276ms/step - loss: 0.5940 - accuracy: 0.6804 - val_loss: 0.5737 - val_accuracy: 0.7050\n",
      "Epoch 4/30\n",
      "250/250 [==============================] - 72s 288ms/step - loss: 0.5649 - accuracy: 0.7078 - val_loss: 0.5572 - val_accuracy: 0.7240\n",
      "Epoch 5/30\n",
      "250/250 [==============================] - 70s 281ms/step - loss: 0.5307 - accuracy: 0.7346 - val_loss: 0.5305 - val_accuracy: 0.7415\n",
      "Epoch 6/30\n",
      "250/250 [==============================] - 63s 250ms/step - loss: 0.5181 - accuracy: 0.7434 - val_loss: 0.5087 - val_accuracy: 0.7545\n",
      "Epoch 7/30\n",
      "250/250 [==============================] - 66s 263ms/step - loss: 0.4978 - accuracy: 0.7577 - val_loss: 0.4808 - val_accuracy: 0.7725\n",
      "Epoch 8/30\n",
      "250/250 [==============================] - 65s 259ms/step - loss: 0.4872 - accuracy: 0.7661 - val_loss: 0.5197 - val_accuracy: 0.7395\n",
      "Epoch 9/30\n",
      "250/250 [==============================] - 57s 229ms/step - loss: 0.4669 - accuracy: 0.7750 - val_loss: 0.5038 - val_accuracy: 0.7580\n",
      "Epoch 10/30\n",
      "250/250 [==============================] - 57s 227ms/step - loss: 0.4510 - accuracy: 0.7865 - val_loss: 0.4715 - val_accuracy: 0.7785\n",
      "Epoch 11/30\n",
      "250/250 [==============================] - 61s 245ms/step - loss: 0.4484 - accuracy: 0.7872 - val_loss: 0.4743 - val_accuracy: 0.7825\n",
      "Epoch 12/30\n",
      "250/250 [==============================] - 57s 229ms/step - loss: 0.4324 - accuracy: 0.7943 - val_loss: 0.4550 - val_accuracy: 0.7905\n",
      "Epoch 13/30\n",
      "250/250 [==============================] - 55s 221ms/step - loss: 0.4244 - accuracy: 0.8037 - val_loss: 0.4655 - val_accuracy: 0.7825\n",
      "Epoch 14/30\n",
      "250/250 [==============================] - 59s 235ms/step - loss: 0.4101 - accuracy: 0.8099 - val_loss: 0.4801 - val_accuracy: 0.7755\n",
      "Epoch 15/30\n",
      "250/250 [==============================] - 56s 225ms/step - loss: 0.4040 - accuracy: 0.8131 - val_loss: 0.5072 - val_accuracy: 0.7750\n",
      "Epoch 16/30\n",
      "250/250 [==============================] - 56s 224ms/step - loss: 0.3799 - accuracy: 0.8314 - val_loss: 0.4807 - val_accuracy: 0.7815\n",
      "Epoch 17/30\n",
      "250/250 [==============================] - 57s 227ms/step - loss: 0.3708 - accuracy: 0.8310 - val_loss: 0.4528 - val_accuracy: 0.7910\n",
      "Epoch 18/30\n",
      "250/250 [==============================] - 58s 230ms/step - loss: 0.3568 - accuracy: 0.8413 - val_loss: 0.5130 - val_accuracy: 0.7620\n",
      "Epoch 19/30\n",
      "250/250 [==============================] - 60s 239ms/step - loss: 0.3489 - accuracy: 0.8470 - val_loss: 0.5028 - val_accuracy: 0.7830\n",
      "Epoch 20/30\n",
      "250/250 [==============================] - 63s 253ms/step - loss: 0.3349 - accuracy: 0.8504 - val_loss: 0.4641 - val_accuracy: 0.7855\n",
      "Epoch 21/30\n",
      "250/250 [==============================] - 64s 256ms/step - loss: 0.3289 - accuracy: 0.8568 - val_loss: 0.4772 - val_accuracy: 0.7850\n",
      "Epoch 22/30\n",
      "250/250 [==============================] - 58s 232ms/step - loss: 0.3134 - accuracy: 0.8671 - val_loss: 0.4715 - val_accuracy: 0.8000\n",
      "Epoch 23/30\n",
      "250/250 [==============================] - 57s 228ms/step - loss: 0.2999 - accuracy: 0.8711 - val_loss: 0.4600 - val_accuracy: 0.8010\n",
      "Epoch 24/30\n",
      "250/250 [==============================] - 57s 227ms/step - loss: 0.2893 - accuracy: 0.8748 - val_loss: 0.5325 - val_accuracy: 0.7710\n",
      "Epoch 25/30\n",
      "250/250 [==============================] - 57s 229ms/step - loss: 0.2832 - accuracy: 0.8780 - val_loss: 0.5994 - val_accuracy: 0.7575\n",
      "Epoch 26/30\n",
      "250/250 [==============================] - 57s 230ms/step - loss: 0.2740 - accuracy: 0.8851 - val_loss: 0.4603 - val_accuracy: 0.8045\n",
      "Epoch 27/30\n",
      "250/250 [==============================] - 58s 232ms/step - loss: 0.2603 - accuracy: 0.8892 - val_loss: 0.5396 - val_accuracy: 0.7750\n",
      "Epoch 28/30\n",
      "250/250 [==============================] - 58s 233ms/step - loss: 0.2456 - accuracy: 0.8970 - val_loss: 0.5361 - val_accuracy: 0.7915\n",
      "Epoch 29/30\n",
      "250/250 [==============================] - 56s 225ms/step - loss: 0.2358 - accuracy: 0.9045 - val_loss: 0.5828 - val_accuracy: 0.7635\n",
      "Epoch 30/30\n",
      "250/250 [==============================] - 57s 229ms/step - loss: 0.2376 - accuracy: 0.9046 - val_loss: 0.5122 - val_accuracy: 0.7945\n"
     ]
    },
    {
     "data": {
      "text/plain": [
       "<keras.callbacks.History at 0x2628454f670>"
      ]
     },
     "execution_count": 13,
     "metadata": {},
     "output_type": "execute_result"
    }
   ],
   "source": [
    "cnn.fit(x=training_set,validation_data=test_set,epochs=30)"
   ]
  },
  {
   "cell_type": "markdown",
   "metadata": {
    "id": "U3PZasO0006Z"
   },
   "source": [
    "## Part 4 - Making a single prediction"
   ]
  },
  {
   "cell_type": "code",
   "execution_count": 39,
   "metadata": {
    "id": "4tDgDr2NzsNo"
   },
   "outputs": [
    {
     "name": "stdout",
     "output_type": "stream",
     "text": [
      "1/1 [==============================] - 0s 28ms/step\n"
     ]
    }
   ],
   "source": [
    "import numpy as np\n",
    "import keras.utils as image\n",
    "test_image=image.load_img('dataset/predict/prediction6.jpeg',target_size=(64,64))\n",
    "test_image = image.img_to_array(test_image)\n",
    "test_image = np.expand_dims(test_image, axis = 0)\n",
    "result = cnn.predict(test_image)"
   ]
  },
  {
   "cell_type": "code",
   "execution_count": 40,
   "metadata": {},
   "outputs": [
    {
     "data": {
      "text/plain": [
       "{'cats': 0, 'dogs': 1}"
      ]
     },
     "execution_count": 40,
     "metadata": {},
     "output_type": "execute_result"
    }
   ],
   "source": [
    "training_set.class_indices"
   ]
  },
  {
   "cell_type": "code",
   "execution_count": 41,
   "metadata": {},
   "outputs": [],
   "source": [
    "if result[0][0] == 1:\n",
    "  prediction = 'dog'\n",
    "else:\n",
    "  prediction = 'cat'"
   ]
  },
  {
   "cell_type": "code",
   "execution_count": 42,
   "metadata": {
    "id": "-IwwB_X42ZTN"
   },
   "outputs": [
    {
     "name": "stdout",
     "output_type": "stream",
     "text": [
      "dog\n"
     ]
    }
   ],
   "source": [
    "print(prediction)"
   ]
  },
  {
   "cell_type": "code",
   "execution_count": null,
   "metadata": {},
   "outputs": [],
   "source": []
  },
  {
   "cell_type": "code",
   "execution_count": null,
   "metadata": {},
   "outputs": [],
   "source": []
  }
 ],
 "metadata": {
  "colab": {
   "provenance": []
  },
  "kernelspec": {
   "display_name": "Python 3 (ipykernel)",
   "language": "python",
   "name": "python3"
  },
  "language_info": {
   "codemirror_mode": {
    "name": "ipython",
    "version": 3
   },
   "file_extension": ".py",
   "mimetype": "text/x-python",
   "name": "python",
   "nbconvert_exporter": "python",
   "pygments_lexer": "ipython3",
   "version": "3.9.13"
  }
 },
 "nbformat": 4,
 "nbformat_minor": 1
}
